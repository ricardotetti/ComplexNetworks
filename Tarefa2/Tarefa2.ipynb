{
 "cells": [
  {
   "cell_type": "code",
   "execution_count": 1,
   "metadata": {},
   "outputs": [],
   "source": [
    "import numpy as np\n",
    "import matplotlib.pyplot as plt\n",
    "import math\n",
    "import networkx as nx\n",
    "from scipy.stats import pearsonr"
   ]
  },
  {
   "cell_type": "markdown",
   "metadata": {},
   "source": [
    "### Questão 1"
   ]
  },
  {
   "cell_type": "code",
   "execution_count": 2,
   "metadata": {},
   "outputs": [],
   "source": [
    "hamsterster = nx.read_edgelist(\"hamsterster.txt\", nodetype=int)\n",
    "hamsterster = hamsterster.to_undirected()\n",
    "hamsterster.remove_edges_from(nx.selfloop_edges(hamsterster))\n",
    "Gcc = sorted(nx.connected_components(hamsterster), key=len, reverse=True)\n",
    "hamsterster = hamsterster.subgraph(Gcc[0])\n",
    "hamsterster = nx.convert_node_labels_to_integers(hamsterster, first_label=0)"
   ]
  },
  {
   "cell_type": "code",
   "execution_count": 3,
   "metadata": {},
   "outputs": [
    {
     "name": "stdout",
     "output_type": "stream",
     "text": [
      "Average shortest path length: 3.4526\n"
     ]
    }
   ],
   "source": [
    "if nx.is_connected(hamsterster) == True:\n",
    "    l = nx.average_shortest_path_length(hamsterster)\n",
    "    print(\"Average shortest path length:\", \"%3.4f\"%l)\n",
    "else:\n",
    "    print(\"The graph has more than one connected component\")"
   ]
  },
  {
   "cell_type": "code",
   "execution_count": 4,
   "metadata": {},
   "outputs": [
    {
     "name": "stdout",
     "output_type": "stream",
     "text": [
      "Network diameter: 14\n"
     ]
    }
   ],
   "source": [
    "d = nx.diameter(hamsterster)\n",
    "print('Network diameter:', d)"
   ]
  },
  {
   "cell_type": "markdown",
   "metadata": {},
   "source": [
    "### Questão 2"
   ]
  },
  {
   "cell_type": "code",
   "execution_count": 5,
   "metadata": {},
   "outputs": [],
   "source": [
    "USairport = nx.read_edgelist(\"USairport500.txt\", nodetype = int)"
   ]
  },
  {
   "cell_type": "code",
   "execution_count": 6,
   "metadata": {},
   "outputs": [],
   "source": [
    "USairport = USairport.to_undirected()\n",
    "USairport.remove_edges_from(nx.selfloop_edges(USairport))\n",
    "Gcc = sorted(nx.connected_components(USairport), key = len, reverse = True)\n",
    "USairport = USairport.subgraph(Gcc[0])\n",
    "USairport = nx.convert_node_labels_to_integers(USairport, first_label = 0)"
   ]
  },
  {
   "cell_type": "code",
   "execution_count": 7,
   "metadata": {},
   "outputs": [
    {
     "name": "stdout",
     "output_type": "stream",
     "text": [
      "Average shortest path length: 2.9910\n"
     ]
    }
   ],
   "source": [
    "if nx.is_connected(USairport) == True:\n",
    "    l = nx.average_shortest_path_length(USairport)\n",
    "    print(\"Average shortest path length:\", \"%3.4f\"%l)\n",
    "else:\n",
    "    print(\"The graph has more than one connected component\")"
   ]
  },
  {
   "cell_type": "code",
   "execution_count": 8,
   "metadata": {},
   "outputs": [],
   "source": [
    "N = len(USairport)\n",
    "if nx.is_connected(USairport) == True:\n",
    "    D = np.zeros(shape=(N,N)) # D is the matrix of distances\n",
    "    vl = []\n",
    "    for i in np.arange(0,N):\n",
    "        for j in np.arange(i+1, N):\n",
    "            if(i != j):\n",
    "                aux = nx.shortest_path(USairport,i,j)\n",
    "                dij = len(aux)-1\n",
    "                D[i][j] = dij\n",
    "                D[j][i] = dij\n",
    "                vl.append(dij)"
   ]
  },
  {
   "cell_type": "code",
   "execution_count": 9,
   "metadata": {},
   "outputs": [
    {
     "name": "stdout",
     "output_type": "stream",
     "text": [
      "Variancia:  0.9555674829910944\n"
     ]
    }
   ],
   "source": [
    "print(\"Variancia: \", np.sqrt(np.std(D)))"
   ]
  },
  {
   "cell_type": "markdown",
   "metadata": {},
   "source": [
    "### Questão 3"
   ]
  },
  {
   "cell_type": "code",
   "execution_count": 10,
   "metadata": {},
   "outputs": [],
   "source": [
    "USairport = nx.read_edgelist(\"USairport500.txt\", nodetype = int)\n",
    "Gcc = sorted(nx.connected_components(USairport), key = len, reverse = True)\n",
    "USairport = USairport.subgraph(Gcc[0])\n",
    "USairport = nx.convert_node_labels_to_integers(USairport, first_label = 0)"
   ]
  },
  {
   "cell_type": "code",
   "execution_count": 11,
   "metadata": {},
   "outputs": [],
   "source": [
    "def degree_distribution(vk):\n",
    "    maxk = np.max(vk)\n",
    "    mink = np.min(vk)\n",
    "    kvalues= np.arange(0,maxk+1) \n",
    "    Pk = np.zeros(maxk+1) \n",
    "    for k in vk:\n",
    "        Pk[k] = Pk[k] + 1\n",
    "    Pk = Pk/sum(Pk) \n",
    "    return kvalues,Pk"
   ]
  },
  {
   "cell_type": "code",
   "execution_count": 12,
   "metadata": {},
   "outputs": [],
   "source": [
    "def shannon_entropy(G):\n",
    "    k,Pk = degree_distribution(G)\n",
    "    H = 0\n",
    "    for p in Pk:\n",
    "        if(p > 0):\n",
    "            H = H - p*math.log(p, 2)\n",
    "    return H"
   ]
  },
  {
   "cell_type": "code",
   "execution_count": 13,
   "metadata": {},
   "outputs": [
    {
     "name": "stdout",
     "output_type": "stream",
     "text": [
      "Entropia de Shannon:  1.883667007854659\n"
     ]
    }
   ],
   "source": [
    "shannon = shannon_entropy(vl)\n",
    "print(\"Entropia de Shannon: \",shannon)"
   ]
  },
  {
   "cell_type": "markdown",
   "metadata": {},
   "source": [
    "### Questão 4"
   ]
  },
  {
   "cell_type": "code",
   "execution_count": 14,
   "metadata": {},
   "outputs": [],
   "source": [
    "advogato = nx.read_edgelist(\"advogato.txt\", nodetype = int)"
   ]
  },
  {
   "cell_type": "code",
   "execution_count": 15,
   "metadata": {},
   "outputs": [],
   "source": [
    "Gcc = sorted(nx.connected_components(advogato), key = len, reverse = True)\n",
    "advogato = advogato.subgraph(Gcc[0])\n",
    "advogato = nx.convert_node_labels_to_integers(advogato, first_label = 0)"
   ]
  },
  {
   "cell_type": "code",
   "execution_count": 16,
   "metadata": {},
   "outputs": [
    {
     "name": "stdout",
     "output_type": "stream",
     "text": [
      "Assortativity =  -0.0846\n"
     ]
    }
   ],
   "source": [
    "r=nx.degree_assortativity_coefficient(advogato)\n",
    "print(\"Assortativity = \",\"%3.4f\"%r)"
   ]
  },
  {
   "cell_type": "markdown",
   "metadata": {},
   "source": [
    "### Questão 5"
   ]
  },
  {
   "cell_type": "code",
   "execution_count": 17,
   "metadata": {},
   "outputs": [],
   "source": [
    "word = nx.read_edgelist(\"word_adjacencies.txt\", nodetype = int)"
   ]
  },
  {
   "cell_type": "code",
   "execution_count": 18,
   "metadata": {},
   "outputs": [
    {
     "name": "stdout",
     "output_type": "stream",
     "text": [
      "Average degree of the neighborhood of the network: 14.76\n"
     ]
    }
   ],
   "source": [
    "knn = []\n",
    "for i in word.nodes():\n",
    "    aux =  nx.average_neighbor_degree(word, nodes = [i])\n",
    "    knn.append(float(aux[i]))\n",
    "knn = np.array(knn)\n",
    "print(\"Average degree of the neighborhood of the network:\", \"%3.2f\"%np.mean(knn))"
   ]
  },
  {
   "cell_type": "code",
   "execution_count": 19,
   "metadata": {},
   "outputs": [],
   "source": [
    "vk = dict(word.degree())\n",
    "vk = list(vk.values())"
   ]
  },
  {
   "cell_type": "code",
   "execution_count": 20,
   "metadata": {},
   "outputs": [],
   "source": [
    "knnk = list()\n",
    "ks = list()\n",
    "for k in np.arange(np.min(vk), np.max(vk)):\n",
    "    aux = vk == k\n",
    "    if(len(knn[aux]) > 0):\n",
    "        av_knn = np.mean(knn[aux]) #average clustering among all the nodes with degree k\n",
    "        knnk.append(av_knn)\n",
    "        ks.append(k)"
   ]
  },
  {
   "cell_type": "code",
   "execution_count": 21,
   "metadata": {},
   "outputs": [
    {
     "name": "stdout",
     "output_type": "stream",
     "text": [
      "Pearson correlation coefficient: -0.6753041480047248\n"
     ]
    }
   ],
   "source": [
    "rho = np.corrcoef(ks, knnk)[0,1]\n",
    "print('Pearson correlation coefficient:', rho)"
   ]
  }
 ],
 "metadata": {
  "kernelspec": {
   "display_name": "Python 3",
   "language": "python",
   "name": "python3"
  },
  "language_info": {
   "codemirror_mode": {
    "name": "ipython",
    "version": 3
   },
   "file_extension": ".py",
   "mimetype": "text/x-python",
   "name": "python",
   "nbconvert_exporter": "python",
   "pygments_lexer": "ipython3",
   "version": "3.8.5"
  }
 },
 "nbformat": 4,
 "nbformat_minor": 4
}
