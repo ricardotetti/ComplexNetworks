{
 "cells": [
  {
   "cell_type": "code",
   "execution_count": 2,
   "metadata": {},
   "outputs": [],
   "source": [
    "import numpy as np\n",
    "import networkx as nx\n",
    "import matplotlib.pyplot as plt"
   ]
  },
  {
   "cell_type": "markdown",
   "metadata": {},
   "source": [
    "### Questão 1"
   ]
  },
  {
   "cell_type": "code",
   "execution_count": 10,
   "metadata": {},
   "outputs": [],
   "source": [
    "N = 1000\n",
    "av_degree = 8\n",
    "m = int(av_degree/2)\n",
    "GBA = nx.barabasi_albert_graph(N, m)"
   ]
  },
  {
   "cell_type": "code",
   "execution_count": 11,
   "metadata": {},
   "outputs": [
    {
     "name": "stdout",
     "output_type": "stream",
     "text": [
      "Average clustering coefficient:  0.03734717914216904\n"
     ]
    }
   ],
   "source": [
    "print(\"Average clustering coefficient: \",nx.average_clustering(GBA))"
   ]
  },
  {
   "cell_type": "code",
   "execution_count": 12,
   "metadata": {},
   "outputs": [
    {
     "name": "stdout",
     "output_type": "stream",
     "text": [
      "Segundo momento:  142.984\n"
     ]
    }
   ],
   "source": [
    "def momment_of_degree_distribution2(G,m):\n",
    "    M = 0\n",
    "    N = len(G)\n",
    "    for i in G.nodes:\n",
    "        M = M + G.degree(i)**m\n",
    "    M = M/N\n",
    "    return M\n",
    "print(\"Segundo momento: \", momment_of_degree_distribution2(GBA,2))"
   ]
  },
  {
   "cell_type": "code",
   "execution_count": 13,
   "metadata": {},
   "outputs": [
    {
     "name": "stdout",
     "output_type": "stream",
     "text": [
      "Segundo momento:  142.98400000000004\n"
     ]
    }
   ],
   "source": [
    "def degree_distribution(G):\n",
    "    vk = dict(G.degree())\n",
    "    vk = list(vk.values()) \n",
    "    vk = np.array(vk)\n",
    "    maxk = np.max(vk)\n",
    "    mink = np.min(vk)\n",
    "    kvalues= np.arange(0,maxk+1) \n",
    "    Pk = np.zeros(maxk+1) \n",
    "    for k in vk:\n",
    "        Pk[k] = Pk[k] + 1\n",
    "    Pk = Pk/sum(Pk) \n",
    "    return kvalues,Pk\n",
    "\n",
    "def momment_of_degree_distribution(G,m):\n",
    "    k,Pk = degree_distribution(G)\n",
    "    M = sum((k**m)*Pk)\n",
    "    return M\n",
    "\n",
    "print(\"Segundo momento: \", momment_of_degree_distribution(GBA,2))"
   ]
  },
  {
   "cell_type": "markdown",
   "metadata": {},
   "source": [
    "### Questão 2"
   ]
  },
  {
   "cell_type": "code",
   "execution_count": 14,
   "metadata": {},
   "outputs": [],
   "source": [
    "ER = nx.erdos_renyi_graph(1000,0.01)\n",
    "GBA = nx.barabasi_albert_graph(1000, int(10/2))"
   ]
  },
  {
   "cell_type": "code",
   "execution_count": 15,
   "metadata": {},
   "outputs": [],
   "source": [
    "def degree_distribution(GER):\n",
    "    vk = dict(GER.degree())\n",
    "    vk = list(vk.values()) # we get only the degree values\n",
    "    maxk = np.max(vk)\n",
    "    mink = np.min(min)\n",
    "    kvalues= np.arange(0,maxk+1) # possible values of k\n",
    "    Pk = np.zeros(maxk+1) # P(k)\n",
    "    for k in vk:\n",
    "        Pk[k] = Pk[k] + 1\n",
    "    Pk = Pk/sum(Pk) # the sum of the elements of P(k) must to be equal to one\n",
    "    return kvalues,Pk"
   ]
  },
  {
   "cell_type": "code",
   "execution_count": 16,
   "metadata": {},
   "outputs": [
    {
     "name": "stdout",
     "output_type": "stream",
     "text": [
      "Shannon Entropy Erdös-Reyni =  3.6654\n",
      "Shannon Entropy Barabasi-Albert =  3.5762\n"
     ]
    }
   ],
   "source": [
    "import math\n",
    "def shannon_entropy(G):\n",
    "    k,Pk = degree_distribution(G)\n",
    "    H = 0\n",
    "    for p in Pk:\n",
    "        if(p > 0):\n",
    "            H = H - p*math.log(p, 2)\n",
    "    return H\n",
    "\n",
    "print(\"Shannon Entropy Erdös-Reyni = \", \"%3.4f\"%shannon_entropy(ER))\n",
    "print(\"Shannon Entropy Barabasi-Albert = \", \"%3.4f\"%shannon_entropy(GBA))"
   ]
  },
  {
   "cell_type": "markdown",
   "metadata": {},
   "source": [
    "### Questão 3"
   ]
  },
  {
   "cell_type": "code",
   "execution_count": 17,
   "metadata": {},
   "outputs": [],
   "source": [
    "GBA = nx.barabasi_albert_graph(1000, int(10/2))\n",
    "\n",
    "degrees = [GBA.degree(n) for n in GBA.nodes()]\n",
    "\n",
    "EC = dict(nx.eigenvector_centrality(GBA, max_iter = 1000))\n",
    "EC = list(EC.values())\n",
    "#av_EC = np.mean(EC)\n",
    "#print('Average eigenvector centrality', av_EC)"
   ]
  },
  {
   "cell_type": "code",
   "execution_count": 18,
   "metadata": {},
   "outputs": [
    {
     "name": "stdout",
     "output_type": "stream",
     "text": [
      "Pearson correlation coefficient: 0.9348463648851482\n"
     ]
    }
   ],
   "source": [
    "rho = np.corrcoef(degrees, EC)[0,1]\n",
    "print('Pearson correlation coefficient:', rho)"
   ]
  },
  {
   "cell_type": "markdown",
   "metadata": {},
   "source": [
    "### Questão 4"
   ]
  },
  {
   "cell_type": "code",
   "execution_count": 19,
   "metadata": {},
   "outputs": [],
   "source": [
    "GBA = nx.barabasi_albert_graph(500, int(10/2))\n",
    "degrees = [GBA.degree(n) for n in GBA.nodes()]"
   ]
  },
  {
   "cell_type": "code",
   "execution_count": 20,
   "metadata": {},
   "outputs": [
    {
     "name": "stdout",
     "output_type": "stream",
     "text": [
      "Pearson correlation coefficient: 0.9561776991960528\n"
     ]
    }
   ],
   "source": [
    "B = dict(nx.betweenness_centrality(GBA))\n",
    "B = list(B.values())\n",
    "#print('Betweeness centrality:', B)\n",
    "rho = np.corrcoef(B,degrees)[0,1]\n",
    "print('Pearson correlation coefficient:', rho)"
   ]
  },
  {
   "cell_type": "markdown",
   "metadata": {},
   "source": [
    "### Questão 5"
   ]
  },
  {
   "cell_type": "code",
   "execution_count": 24,
   "metadata": {},
   "outputs": [
    {
     "name": "stdout",
     "output_type": "stream",
     "text": [
      "Segundo momento: 10.25\n"
     ]
    },
    {
     "data": {
      "image/png": "[encoded data removed]",
      "text/plain": [
       "<Figure size 432x288 with 1 Axes>"
      ]
     },
     "metadata": {},
     "output_type": "display_data"
    }
   ],
   "source": [
    "from random import *\n",
    "N = 500\n",
    "a = 3\n",
    "seq = np.random.zipf(a, N) #Zipf distribution\n",
    "if(sum(seq)%2 != 0): # the sum of stubs have to be even\n",
    "    pos = randint(0, len(seq))\n",
    "    seq[pos] = seq[pos]+ 1\n",
    "\n",
    "GCM=nx.configuration_model(seq)\n",
    "\n",
    "#get the largest component\n",
    "Gcc = sorted(nx.connected_components(GCM), key = len, reverse = True)\n",
    "GCM = GCM.subgraph(Gcc[0])\n",
    "\n",
    "d = dict(GCM.degree())\n",
    "\n",
    "print(\"Segundo momento:\", momment_of_degree_distribution(GCM,2))\n",
    "\n",
    "nx.draw(GCM, nodelist=d.keys(), node_size=[v * 5 for v in d.values()])\n",
    "plt.show()"
   ]
  }
 ],
 "metadata": {
  "kernelspec": {
   "display_name": "Python 3",
   "language": "python",
   "name": "python3"
  },
  "language_info": {
   "codemirror_mode": {
    "name": "ipython",
    "version": 3
   },
   "file_extension": ".py",
   "mimetype": "text/x-python",
   "name": "python",
   "nbconvert_exporter": "python",
   "pygments_lexer": "ipython3",
   "version": "3.8.5"
  }
 },
 "nbformat": 4,
 "nbformat_minor": 4
}
