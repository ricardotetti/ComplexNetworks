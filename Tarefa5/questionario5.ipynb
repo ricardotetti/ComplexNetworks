{
 "cells": [
  {
   "cell_type": "code",
   "execution_count": 1,
   "metadata": {},
   "outputs": [],
   "source": [
    "import numpy as np\n",
    "import matplotlib.pyplot as plt\n",
    "import networkx as nx"
   ]
  },
  {
   "cell_type": "markdown",
   "metadata": {},
   "source": [
    "## Questão 1"
   ]
  },
  {
   "cell_type": "code",
   "execution_count": 2,
   "metadata": {},
   "outputs": [],
   "source": [
    "N = 1000\n",
    "p = 0.1\n",
    "GER = nx.gnp_random_graph(N,p,seed=None, directed=False)"
   ]
  },
  {
   "cell_type": "code",
   "execution_count": 3,
   "metadata": {},
   "outputs": [
    {
     "name": "stdout",
     "output_type": "stream",
     "text": [
      "Average degre: 99.756\n"
     ]
    }
   ],
   "source": [
    "N = len(GER)\n",
    "M = GER.number_of_edges()\n",
    "print('Average degre:', 2*M/N)"
   ]
  },
  {
   "cell_type": "code",
   "execution_count": 19,
   "metadata": {},
   "outputs": [],
   "source": [
    "def degree_distribution(GER):\n",
    "    vk = dict(GER.degree())\n",
    "    vk = list(vk.values()) # we get only the degree values\n",
    "    maxk = np.max(vk)\n",
    "    mink = np.min(min)\n",
    "    kvalues= np.arange(0,maxk+1) # possible values of k\n",
    "    Pk = np.zeros(maxk+1) # P(k)\n",
    "    for k in vk:\n",
    "        Pk[k] = Pk[k] + 1\n",
    "    Pk = Pk/sum(Pk) # the sum of the elements of P(k) must to be equal to one\n",
    "    return kvalues,Pk"
   ]
  },
  {
   "cell_type": "code",
   "execution_count": 20,
   "metadata": {},
   "outputs": [],
   "source": [
    "def momment_of_degree_distribution(G,m):\n",
    "    k,Pk = degree_distribution(G)\n",
    "    M = sum((k**m)*Pk)\n",
    "    return M"
   ]
  },
  {
   "cell_type": "code",
   "execution_count": 21,
   "metadata": {},
   "outputs": [],
   "source": [
    "def momment_of_degree_distribution2(G,m):\n",
    "    M = 0\n",
    "    N = len(G)\n",
    "    for i in G.nodes:\n",
    "        M = M + G.degree(i)**m\n",
    "    M = M/N\n",
    "    return M"
   ]
  },
  {
   "cell_type": "code",
   "execution_count": 7,
   "metadata": {},
   "outputs": [
    {
     "name": "stdout",
     "output_type": "stream",
     "text": [
      "Segundo momento:  10051.432\n"
     ]
    }
   ],
   "source": [
    "print(\"Segundo momento: \", momment_of_degree_distribution(GER,2))"
   ]
  },
  {
   "cell_type": "code",
   "execution_count": 8,
   "metadata": {},
   "outputs": [
    {
     "name": "stdout",
     "output_type": "stream",
     "text": [
      "Segundo momento:  10051.432\n"
     ]
    }
   ],
   "source": [
    "print(\"Segundo momento: \", momment_of_degree_distribution2(GER,2))"
   ]
  },
  {
   "cell_type": "code",
   "execution_count": 9,
   "metadata": {},
   "outputs": [
    {
     "name": "stdout",
     "output_type": "stream",
     "text": [
      "Average clustering coefficient:  0.09981543306693147\n"
     ]
    }
   ],
   "source": [
    "print(\"Average clustering coefficient: \",nx.average_clustering(GER))"
   ]
  },
  {
   "cell_type": "markdown",
   "metadata": {},
   "source": [
    "## Questão 2"
   ]
  },
  {
   "cell_type": "code",
   "execution_count": 22,
   "metadata": {},
   "outputs": [],
   "source": [
    "N = 1000\n",
    "av_degree = 10\n",
    "k = int(av_degree)\n",
    "p = 0.1 #probability of rewiring\n",
    "GWS = nx.watts_strogatz_graph(N, k, p, seed=None)"
   ]
  },
  {
   "cell_type": "code",
   "execution_count": 23,
   "metadata": {},
   "outputs": [
    {
     "name": "stdout",
     "output_type": "stream",
     "text": [
      "Average degre: 10.0\n",
      "Segundo momento:  100.94\n",
      "Average clustering coefficient:  0.49013563658563675\n"
     ]
    }
   ],
   "source": [
    "N = len(GWS)\n",
    "M = GWS.number_of_edges()\n",
    "print('Average degre:', 2*M/N)\n",
    "print(\"Segundo momento: \", momment_of_degree_distribution2(GWS,2))\n",
    "print(\"Average clustering coefficient: \",nx.average_clustering(GWS))"
   ]
  },
  {
   "cell_type": "markdown",
   "metadata": {},
   "source": [
    "## Questão 3"
   ]
  },
  {
   "cell_type": "code",
   "execution_count": 12,
   "metadata": {},
   "outputs": [
    {
     "name": "stdout",
     "output_type": "stream",
     "text": [
      "Average degre: 4.948\n"
     ]
    }
   ],
   "source": [
    "ER_k_5 = nx.erdos_renyi_graph(1000,0.005)\n",
    "N = len(ER_k_5)\n",
    "M = ER_k_5.number_of_edges()\n",
    "print('Average degre:', 2*M/N)"
   ]
  },
  {
   "cell_type": "code",
   "execution_count": 13,
   "metadata": {},
   "outputs": [
    {
     "name": "stdout",
     "output_type": "stream",
     "text": [
      "Shannon Entropy (<k>=5) =  3.2043\n"
     ]
    }
   ],
   "source": [
    "import math\n",
    "def shannon_entropy(G):\n",
    "    k,Pk = degree_distribution(G)\n",
    "    H = 0\n",
    "    for p in Pk:\n",
    "        if(p > 0):\n",
    "            H = H - p*math.log(p, 2)\n",
    "    return H\n",
    "H = shannon_entropy(ER_k_5)\n",
    "print(\"Shannon Entropy (<k>=5) = \", \"%3.4f\"%H)"
   ]
  },
  {
   "cell_type": "code",
   "execution_count": 14,
   "metadata": {},
   "outputs": [
    {
     "name": "stdout",
     "output_type": "stream",
     "text": [
      "Average degre: 10.01\n",
      "Shannon Entropy (<k>=10) =  3.6669\n"
     ]
    }
   ],
   "source": [
    "ER_k_10 = nx.erdos_renyi_graph(1000,0.01)\n",
    "N = len(ER_k_10)\n",
    "M = ER_k_10.number_of_edges()\n",
    "print('Average degre:', 2*M/N)\n",
    "print(\"Shannon Entropy (<k>=10) = \", \"%3.4f\"%shannon_entropy(ER_k_10))"
   ]
  },
  {
   "cell_type": "code",
   "execution_count": 15,
   "metadata": {},
   "outputs": [
    {
     "name": "stdout",
     "output_type": "stream",
     "text": [
      "Average degre: 49.794\n",
      "Shannon Entropy (<k>=50) =  4.8029\n"
     ]
    }
   ],
   "source": [
    "ER_k_50 = nx.erdos_renyi_graph(1000,0.05)\n",
    "N = len(ER_k_50)\n",
    "M = ER_k_50.number_of_edges()\n",
    "print('Average degre:', 2*M/N)\n",
    "print(\"Shannon Entropy (<k>=50) = \", \"%3.4f\"%shannon_entropy(ER_k_50))"
   ]
  },
  {
   "cell_type": "markdown",
   "metadata": {},
   "source": [
    "## Questão 4"
   ]
  },
  {
   "cell_type": "code",
   "execution_count": 4,
   "metadata": {},
   "outputs": [],
   "source": [
    "N = 100\n",
    "av_degree = 10\n",
    "k = int(av_degree/2)\n",
    "GWS_0 = nx.watts_strogatz_graph(N, k, 0.0, seed=None)\n",
    "GWS_001 = nx.watts_strogatz_graph(N, k, 0.01, seed=None)\n",
    "GWS_005 = nx.watts_strogatz_graph(N, k, 0.05, seed=None)\n",
    "GWS_01 = nx.watts_strogatz_graph(N, k, 0.1, seed=None)"
   ]
  },
  {
   "cell_type": "code",
   "execution_count": 5,
   "metadata": {},
   "outputs": [
    {
     "name": "stdout",
     "output_type": "stream",
     "text": [
      "Shortest paht (p = 0.0): 12.878787878787879\n",
      "Shortest paht (p = 0.01): 10.497575757575758\n",
      "Shortest paht (p = 0.05): 6.146464646464646\n",
      "Shortest paht (p = 0.1): 5.042020202020202\n"
     ]
    }
   ],
   "source": [
    "print('Shortest paht (p = 0.0):',nx.average_shortest_path_length(GWS_0))\n",
    "print('Shortest paht (p = 0.01):',nx.average_shortest_path_length(GWS_001))\n",
    "print('Shortest paht (p = 0.05):',nx.average_shortest_path_length(GWS_005))\n",
    "print('Shortest paht (p = 0.1):',nx.average_shortest_path_length(GWS_01))"
   ]
  },
  {
   "cell_type": "markdown",
   "metadata": {},
   "source": [
    "## Questão 5"
   ]
  },
  {
   "cell_type": "code",
   "execution_count": 16,
   "metadata": {},
   "outputs": [
    {
     "name": "stdout",
     "output_type": "stream",
     "text": [
      "0.010677863138073822\n"
     ]
    }
   ],
   "source": [
    "ER_k_5 = nx.erdos_renyi_graph(1000,0.005)\n",
    "print(nx.degree_assortativity_coefficient(ER_k_5))"
   ]
  },
  {
   "cell_type": "code",
   "execution_count": 12,
   "metadata": {},
   "outputs": [
    {
     "name": "stdout",
     "output_type": "stream",
     "text": [
      "-0.009785976068247649\n"
     ]
    }
   ],
   "source": [
    "ER_k_10 = nx.erdos_renyi_graph(1000,0.01)\n",
    "print(nx.degree_assortativity_coefficient(ER_k_10))"
   ]
  },
  {
   "cell_type": "code",
   "execution_count": 11,
   "metadata": {},
   "outputs": [
    {
     "name": "stdout",
     "output_type": "stream",
     "text": [
      "-0.007297385790872851\n"
     ]
    }
   ],
   "source": [
    "ER_k_50 = nx.erdos_renyi_graph(1000,0.05)\n",
    "print(nx.degree_assortativity_coefficient(ER_k_50))"
   ]
  },
  {
   "cell_type": "markdown",
   "metadata": {},
   "source": [
    "## Questão 6"
   ]
  },
  {
   "cell_type": "code",
   "execution_count": 91,
   "metadata": {},
   "outputs": [],
   "source": [
    "GWS_001 = nx.watts_strogatz_graph(N, k, 0.01, seed=None)\n",
    "GWS_005 = nx.watts_strogatz_graph(N, k, 0.05, seed=None)\n",
    "GWS_02 = nx.watts_strogatz_graph(N, k, 0.2, seed=None)"
   ]
  },
  {
   "cell_type": "code",
   "execution_count": 92,
   "metadata": {},
   "outputs": [
    {
     "name": "stdout",
     "output_type": "stream",
     "text": [
      "Assortativity (p=0.01): -0.000872931155523963\n",
      "Assortativity (p=0.05): -0.0007425392595507423\n",
      "Assortativity (p=0.2): -0.0002857853810187247\n"
     ]
    }
   ],
   "source": [
    "print(\"Assortativity (p=0.01):\",nx.degree_assortativity_coefficient(GWS_001))\n",
    "print(\"Assortativity (p=0.05):\",nx.degree_assortativity_coefficient(GWS_005))\n",
    "print(\"Assortativity (p=0.2):\",nx.degree_assortativity_coefficient(GWS_02))"
   ]
  }
 ],
 "metadata": {
  "kernelspec": {
   "display_name": "Python 3",
   "language": "python",
   "name": "python3"
  },
  "language_info": {
   "codemirror_mode": {
    "name": "ipython",
    "version": 3
   },
   "file_extension": ".py",
   "mimetype": "text/x-python",
   "name": "python",
   "nbconvert_exporter": "python",
   "pygments_lexer": "ipython3",
   "version": "3.8.5"
  }
 },
 "nbformat": 4,
 "nbformat_minor": 4
}
